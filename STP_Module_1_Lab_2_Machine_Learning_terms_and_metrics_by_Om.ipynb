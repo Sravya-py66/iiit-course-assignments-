{
  "cells": [
    {
      "cell_type": "markdown",
      "metadata": {
        "id": "view-in-github",
        "colab_type": "text"
      },
      "source": [
        "<a href=\"https://colab.research.google.com/github/Sravya-py66/iiit-course-assignments-/blob/main/STP_Module_1_Lab_2_Machine_Learning_terms_and_metrics_by_Om.ipynb\" target=\"_parent\"><img src=\"https://colab.research.google.com/assets/colab-badge.svg\" alt=\"Open In Colab\"/></a>"
      ]
    },
    {
      "cell_type": "markdown",
      "metadata": {
        "id": "3Eu9VZbF01eq"
      },
      "source": [
        "# Machine Learning terms and metrics\n",
        "\n",
        "Module 1, Lab 2\n",
        "\n",
        "In this lab, we will show a part of the ML pipeline by using the California Housing dataset. There are 20640 samples, each with 8 attributes like income of the block, age of the houses per district etc. The task is to predict the cost of the houses per district. We will use the scikit-learn library to load the data and perform some basic data preprocessing and model training. We will also show how to evaluate the model using some common metrics, split the data into training and testing sets, and use cross-validation to get a better estimate of the model's performance.\n",
        "\n",
        "## Common Machine Learning Evaluation Metrics\n",
        "\n",
        "### Classification Metrics\n",
        "\n",
        "**1. Accuracy**\n",
        "$$\\text{Accuracy} = \\frac{\\text{Correct Predictions}}{\\text{Total Predictions}} = \\frac{TP + TN}{TP + TN + FP + FN}$$\n",
        "\n",
        "**2. Precision** (How many predicted positives are actually positive?)\n",
        "$$\\text{Precision} = \\frac{TP}{TP + FP}$$\n",
        "\n",
        "**3. Recall/Sensitivity** (How many actual positives did we find?)\n",
        "$$\\text{Recall} = \\frac{TP}{TP + FN}$$\n",
        "\n",
        "**4. F1-Score** (Harmonic mean of Precision and Recall)\n",
        "$$\\text{F1} = 2 \\times \\frac{\\text{Precision} \\times \\text{Recall}}{\\text{Precision} + \\text{Recall}}$$\n",
        "\n",
        "Where: **TP** = True Positives, **TN** = True Negatives, **FP** = False Positives, **FN** = False Negatives\n",
        "\n",
        "### Regression Metrics\n",
        "\n",
        "**1. Mean Absolute Error (MAE)**\n",
        "$$\\text{MAE} = \\frac{1}{n}\\sum_{i=1}^{n}|y_i - \\hat{y}_i|$$\n",
        "\n",
        "**2. Mean Squared Error (MSE)**\n",
        "$$\\text{MSE} = \\frac{1}{n}\\sum_{i=1}^{n}(y_i - \\hat{y}_i)^2$$\n",
        "\n",
        "**3. Root Mean Squared Error (RMSE)**\n",
        "$$\\text{RMSE} = \\sqrt{\\frac{1}{n}\\sum_{i=1}^{n}(y_i - \\hat{y}_i)^2}$$\n",
        "\n",
        "---"
      ]
    },
    {
      "cell_type": "code",
      "execution_count": 1,
      "metadata": {
        "id": "8qBvyEem0vLi"
      },
      "outputs": [],
      "source": [
        "import numpy as np\n",
        "from sklearn import datasets\n",
        "import matplotlib.pyplot as plt\n",
        "\n",
        "rng = np.random.default_rng(seed=42)"
      ]
    },
    {
      "cell_type": "code",
      "execution_count": 2,
      "metadata": {
        "colab": {
          "base_uri": "https://localhost:8080/"
        },
        "id": "8LpqjN991GGJ",
        "outputId": "e1a31db3-6c33-40eb-f31d-9bdcf48b4019"
      },
      "outputs": [
        {
          "output_type": "stream",
          "name": "stdout",
          "text": [
            ".. _california_housing_dataset:\n",
            "\n",
            "California Housing dataset\n",
            "--------------------------\n",
            "\n",
            "**Data Set Characteristics:**\n",
            "\n",
            ":Number of Instances: 20640\n",
            "\n",
            ":Number of Attributes: 8 numeric, predictive attributes and the target\n",
            "\n",
            ":Attribute Information:\n",
            "    - MedInc        median income in block group\n",
            "    - HouseAge      median house age in block group\n",
            "    - AveRooms      average number of rooms per household\n",
            "    - AveBedrms     average number of bedrooms per household\n",
            "    - Population    block group population\n",
            "    - AveOccup      average number of household members\n",
            "    - Latitude      block group latitude\n",
            "    - Longitude     block group longitude\n",
            "\n",
            ":Missing Attribute Values: None\n",
            "\n",
            "This dataset was obtained from the StatLib repository.\n",
            "https://www.dcc.fc.up.pt/~ltorgo/Regression/cal_housing.html\n",
            "\n",
            "The target variable is the median house value for California districts,\n",
            "expressed in hundreds of thousands of dollars ($100,000).\n",
            "\n",
            "This dataset was derived from the 1990 U.S. census, using one row per census\n",
            "block group. A block group is the smallest geographical unit for which the U.S.\n",
            "Census Bureau publishes sample data (a block group typically has a population\n",
            "of 600 to 3,000 people).\n",
            "\n",
            "A household is a group of people residing within a home. Since the average\n",
            "number of rooms and bedrooms in this dataset are provided per household, these\n",
            "columns may take surprisingly large values for block groups with few households\n",
            "and many empty houses, such as vacation resorts.\n",
            "\n",
            "It can be downloaded/loaded using the\n",
            ":func:`sklearn.datasets.fetch_california_housing` function.\n",
            "\n",
            ".. rubric:: References\n",
            "\n",
            "- Pace, R. Kelley and Ronald Barry, Sparse Spatial Autoregressions,\n",
            "  Statistics and Probability Letters, 33 (1997) 291-297\n",
            "\n"
          ]
        }
      ],
      "source": [
        "dataset = datasets.fetch_california_housing()\n",
        "# Dataset description\n",
        "print(dataset.DESCR)"
      ]
    },
    {
      "cell_type": "markdown",
      "metadata": {
        "id": "PCe1VNftevgE"
      },
      "source": [
        "Given below are the list of target values. These correspond to the house value derived considering all the 8 input features and are continuous values. We should use regression models to predict these values but we will start with a simple classification model for the sake of simplicity. We need to just round off the values to the nearest integer and use a classification model to predict the house value."
      ]
    },
    {
      "cell_type": "code",
      "execution_count": 3,
      "metadata": {
        "colab": {
          "base_uri": "https://localhost:8080/"
        },
        "id": "F8K0ggBOevgE",
        "outputId": "c0add0ed-53c4-4a21-91d5-47d395392742"
      },
      "outputs": [
        {
          "output_type": "stream",
          "name": "stdout",
          "text": [
            "Orignal target values: [4.526 3.585 3.521 ... 0.923 0.847 0.894]\n",
            "Target values after conversion: [4 3 3 ... 0 0 0]\n",
            "Input variables shape: (20640, 8)\n",
            "Output variables shape: (20640,)\n"
          ]
        }
      ],
      "source": [
        "print(\"Orignal target values:\", dataset.target)\n",
        "\n",
        "dataset.target = dataset.target.astype(int)\n",
        "\n",
        "print(\"Target values after conversion:\", dataset.target)\n",
        "print(\"Input variables shape:\", dataset.data.shape)\n",
        "print(\"Output variables shape:\", dataset.target.shape)"
      ]
    },
    {
      "cell_type": "markdown",
      "metadata": {
        "id": "iNx4174W5xRg"
      },
      "source": [
        "The simplest model to use for classification is the K-Nearest Neighbors model. We will use this model to predict the house value with a K value of 1. We will also use the accuracy metric to evaluate the model."
      ]
    },
    {
      "cell_type": "markdown",
      "source": [
        "![image.png](data:image/png;base64,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)"
      ],
      "metadata": {
        "id": "WmtjvWSm1fZ7"
      }
    },
    {
      "cell_type": "code",
      "execution_count": 4,
      "metadata": {
        "id": "07zpydQj1hIQ"
      },
      "outputs": [],
      "source": [
        "def NN1(traindata, trainlabel, query):\n",
        "    \"\"\"\n",
        "    This function takes in the training data, training labels and a query point\n",
        "    and returns the predicted label for the query point using the nearest neighbour algorithm\n",
        "\n",
        "    traindata: numpy array of shape (n,d) where n is the number of samples and d is the number of features\n",
        "    trainlabel: numpy array of shape (n,) where n is the number of samples\n",
        "    query: numpy array of shape (d,) where d is the number of features\n",
        "\n",
        "    returns: the predicted label for the query point which is the label of the training data which is closest to the query point\n",
        "    \"\"\"\n",
        "    diff = (\n",
        "        traindata - query\n",
        "    )  # find the difference between features. Numpy automatically takes care of the size here\n",
        "    sq = diff * diff  # square the differences\n",
        "    dist = sq.sum(1)  # add up the squares\n",
        "    label = trainlabel[np.argmin(dist)]\n",
        "    return label\n",
        "\n",
        "\n",
        "def NN(traindata, trainlabel, testdata):\n",
        "    \"\"\"\n",
        "    This function takes in the training data, training labels and test data\n",
        "    and returns the predicted labels for the test data using the nearest neighbour algorithm\n",
        "\n",
        "    traindata: numpy array of shape (n,d) where n is the number of samples and d is the number of features\n",
        "    trainlabel: numpy array of shape (n,) where n is the number of samples\n",
        "    testdata: numpy array of shape (m,d) where m is the number of test samples and d is the number of features\n",
        "\n",
        "    returns: the predicted labels for the test data which is the label of the training data which is closest to each test point\n",
        "    \"\"\"\n",
        "    predlabel = np.array([NN1(traindata, trainlabel, i) for i in testdata])\n",
        "    return predlabel"
      ]
    },
    {
      "cell_type": "markdown",
      "metadata": {
        "id": "03JktkfIGaje"
      },
      "source": [
        "We will also define a 'random classifier', which randomly allots labels to each sample"
      ]
    },
    {
      "cell_type": "code",
      "execution_count": 5,
      "metadata": {
        "id": "fogWAtjyGhAH"
      },
      "outputs": [],
      "source": [
        "def RandomClassifier(traindata, trainlabel, testdata):\n",
        "    \"\"\"\n",
        "    This function takes in the training data, training labels and test data\n",
        "    and returns the predicted labels for the test data using the random classifier algorithm\n",
        "\n",
        "    In reality, we don't need these arguments but we are passing them to keep the function signature consistent with other classifiers\n",
        "\n",
        "    traindata: numpy array of shape (n,d) where n is the number of samples and d is the number of features\n",
        "    trainlabel: numpy array of shape (n,) where n is the number of samples\n",
        "    testdata: numpy array of shape (m,d) where m is the number of test samples and d is the number of features\n",
        "\n",
        "    returns: the predicted labels for the test data which is a random label from the training data\n",
        "    \"\"\"\n",
        "\n",
        "    classes = np.unique(trainlabel)\n",
        "    rints = rng.integers(low=0, high=len(classes), size=len(testdata))\n",
        "    predlabel = classes[rints]\n",
        "    return predlabel"
      ]
    },
    {
      "cell_type": "markdown",
      "metadata": {
        "id": "1Hjf1KHs7fU5"
      },
      "source": [
        "We need a metric to evaluate the performance of the model. Let us define a metric 'Accuracy' to see how good our learning algorithm is. Accuracy is the ratio of the number of correctly classified samples to the total number of samples. The higher the accuracy, the better the algorithm. We will use the accuracy metric to evaluate and compate the performance of the K-Nearest Neighbors model and the random classifier."
      ]
    },
    {
      "cell_type": "code",
      "execution_count": 11,
      "metadata": {
        "id": "ouuCqWU07bz-"
      },
      "outputs": [],
      "source": [
        "def Accuracy(gtlabel, predlabel):\n",
        "    \"\"\"\n",
        "    This function takes in the ground-truth labels and predicted labels\n",
        "    and returns the accuracy of the classifier\n",
        "\n",
        "    gtlabel: numpy array of shape (n,) where n is the number of samples\n",
        "    predlabel: numpy array of shape (n,) where n is the number of samples\n",
        "\n",
        "    returns: the accuracy of the classifier which is the number of correct predictions divided by the total number of predictions\n",
        "    \"\"\"\n",
        "    assert len(gtlabel) == len(\n",
        "        predlabel\n",
        "    ), \"Length of the ground-truth labels and predicted labels should be the same\"\n",
        "    correct = (\n",
        "        gtlabel == predlabel\n",
        "    ).sum()  # count the number of times the groundtruth label is equal to the predicted label.\n",
        "    return correct / len(gtlabel)"
      ]
    },
    {
      "cell_type": "code",
      "source": [],
      "metadata": {
        "id": "ofjZkOeJ3HwB"
      },
      "execution_count": null,
      "outputs": []
    },
    {
      "cell_type": "markdown",
      "metadata": {
        "id": "4vJFwBFa9Klw"
      },
      "source": [
        "Let us make a function to split the dataset with the desired probability. We will use this function to split the dataset into training and testing sets. We will use the training set to train the model and the testing set to evaluate the model."
      ]
    },
    {
      "cell_type": "code",
      "execution_count": 12,
      "metadata": {
        "id": "Ko0VzpSM2Tdi"
      },
      "outputs": [],
      "source": [
        "def split(data, label, percent):\n",
        "    # generate a random number for each sample\n",
        "    rnd = rng.random(len(label))\n",
        "    split1 = rnd < percent\n",
        "    split2 = rnd >= percent\n",
        "\n",
        "    split1data = data[split1, :]\n",
        "    split1label = label[split1]\n",
        "    split2data = data[split2, :]\n",
        "    split2label = label[split2]\n",
        "    return split1data, split1label, split2data, split2label"
      ]
    },
    {
      "cell_type": "markdown",
      "metadata": {
        "id": "AcK3LEAJ_LGC"
      },
      "source": [
        "We will reserve 20% of our dataset as the test set. We will not change this portion throughout our experiments"
      ]
    },
    {
      "cell_type": "code",
      "execution_count": 13,
      "metadata": {
        "colab": {
          "base_uri": "https://localhost:8080/"
        },
        "id": "bBZkHBLJ1iU-",
        "outputId": "4e16300e-7bde-4aa0-f2db-8ce7adbb0383"
      },
      "outputs": [
        {
          "output_type": "stream",
          "name": "stdout",
          "text": [
            "Number of test samples: 4097\n",
            "Number of train samples: 16543\n",
            "Percent of test data: 19.849806201550386 %\n"
          ]
        }
      ],
      "source": [
        "testdata, testlabel, alltraindata, alltrainlabel = split(\n",
        "    dataset.data, dataset.target, 20 / 100\n",
        ")\n",
        "print(\"Number of test samples:\", len(testlabel))\n",
        "print(\"Number of train samples:\", len(alltrainlabel))\n",
        "print(\"Percent of test data:\", len(testlabel) * 100 / len(dataset.target), \"%\")"
      ]
    },
    {
      "cell_type": "markdown",
      "metadata": {
        "id": "a6Ss0Z6IAGNV"
      },
      "source": [
        "## Experiments with splits\n",
        "\n",
        "Let us reserve some of our train data as a validation set"
      ]
    },
    {
      "cell_type": "code",
      "execution_count": null,
      "metadata": {
        "id": "WFew2iry_7W7"
      },
      "outputs": [],
      "source": [
        "traindata, trainlabel, valdata, vallabel = split(\n",
        "    alltraindata, alltrainlabel, 75 / 100)"
      ]
    },
    {
      "cell_type": "code",
      "source": [
        "from sklearn.metrics import confusion_matrix, precision_score, recall_score, f1_score\n",
        "from sklearn.metrics import mean_absolute_error, mean_squared_error\n",
        "import numpy as np\n",
        "\n",
        "# Define the split function if it's not already defined in the current session\n",
        "if 'split' not in globals():\n",
        "    def split(data, label, percent):\n",
        "        # generate a random number for each sample\n",
        "        rnd = rng.random(len(label))\n",
        "        split1 = rnd < percent\n",
        "        split2 = rnd >= percent\n",
        "\n",
        "        split1data = data[split1, :]\n",
        "        split1label = label[split1]\n",
        "        split2data = data[split2, :]\n",
        "        split2label = label[split2]\n",
        "        return split1data, split1label, split2data, split2label\n",
        "\n",
        "# Define the NN function if it's not already defined in the current session\n",
        "if 'NN' not in globals():\n",
        "    def NN1(traindata, trainlabel, query):\n",
        "        \"\"\"\n",
        "        This function takes in the training data, training labels and a query point\n",
        "        and returns the predicted label for the query point using the nearest neighbour algorithm\n",
        "        \"\"\"\n",
        "        diff = (\n",
        "            traindata - query\n",
        "        )  # find the difference between features. Numpy automatically takes care of the size here\n",
        "        sq = diff * diff  # square the differences\n",
        "        dist = sq.sum(1)  # add up the squares\n",
        "        label = trainlabel[np.argmin(dist)]\n",
        "        return label\n",
        "\n",
        "    def NN(traindata, trainlabel, testdata):\n",
        "        \"\"\"\n",
        "        This function takes in the training data, training labels and test data\n",
        "        and returns the predicted labels for the test data using the nearest neighbour algorithm\n",
        "        \"\"\"\n",
        "        predlabel = np.array([NN1(traindata, trainlabel, i) for i in testdata])\n",
        "        return predlabel\n",
        "\n",
        "# Re-split the data to define traindata, trainlabel, valdata, and vallabel\n",
        "testdata, testlabel, alltraindata, alltrainlabel = split(\n",
        "    dataset.data, dataset.target, 20 / 100\n",
        ")\n",
        "traindata, trainlabel, valdata, vallabel = split(\n",
        "    alltraindata, alltrainlabel, 75 / 100)\n",
        "\n",
        "\n",
        "def print_classification_metrics(true_labels, pred_labels):\n",
        "    \"\"\"\n",
        "    Calculate and print classification metrics\n",
        "    \"\"\"\n",
        "    # For multi-class, we'll use macro averaging\n",
        "    precision = precision_score(true_labels, pred_labels, average='macro', zero_division=0)\n",
        "    recall = recall_score(true_labels, pred_labels, average='macro', zero_division=0)\n",
        "    f1 = f1_score(true_labels, pred_labels, average='macro', zero_division=0)\n",
        "    accuracy = np.mean(true_labels == pred_labels)\n",
        "\n",
        "    print(f\"Accuracy:  {accuracy*100:.2f}%\")\n",
        "    print(f\"Precision: {precision*100:.2f}%\")\n",
        "    print(f\"Recall:    {recall*100:.2f}%\")\n",
        "    print(f\"F1-Score:  {f1*100:.2f}%\")\n",
        "\n",
        "    return accuracy, precision, recall, f1\n",
        "\n",
        "def print_regression_metrics(true_values, pred_values):\n",
        "    \"\"\"\n",
        "    Calculate and print regression metrics\n",
        "    \"\"\"\n",
        "    mae = mean_absolute_error(true_values, pred_values)\n",
        "    mse = mean_squared_error(true_values, pred_values)\n",
        "    rmse = np.sqrt(mse)\n",
        "\n",
        "    print(f\"MAE:  {mae:.4f}\")\n",
        "    print(f\"MSE:  {mse:.4f}\")\n",
        "    print(f\"RMSE: {rmse:.4f}\")\n",
        "\n",
        "    return mae, mse, rmse\n",
        "\n",
        "# Example: Evaluate validation set with multiple metrics\n",
        "print(\"=== Validation Set Classification Metrics ===\")\n",
        "valpred = NN(traindata, trainlabel, valdata)\n",
        "print_classification_metrics(vallabel, valpred)"
      ],
      "metadata": {
        "colab": {
          "base_uri": "https://localhost:8080/"
        },
        "id": "22QsGSyBk4XL",
        "outputId": "e11858d4-0452-4849-b39e-d9b0e71592d6"
      },
      "execution_count": 15,
      "outputs": [
        {
          "output_type": "stream",
          "name": "stdout",
          "text": [
            "=== Validation Set Classification Metrics ===\n",
            "Accuracy:  34.69%\n",
            "Precision: 25.82%\n",
            "Recall:    24.53%\n",
            "F1-Score:  25.01%\n"
          ]
        },
        {
          "output_type": "execute_result",
          "data": {
            "text/plain": [
              "(np.float64(0.3469090909090909),\n",
              " 0.2582010953482164,\n",
              " 0.24525955548492653,\n",
              " 0.2501231966639759)"
            ]
          },
          "metadata": {},
          "execution_count": 15
        }
      ]
    },
    {
      "cell_type": "code",
      "source": [
        "import matplotlib.pyplot as plt\n",
        "import seaborn as sns\n",
        "from sklearn.metrics import confusion_matrix\n",
        "\n",
        "# Define the split function if it's not already defined in the current session\n",
        "if 'split' not in globals():\n",
        "    def split(data, label, percent):\n",
        "        # generate a random number for each sample\n",
        "        rnd = rng.random(len(label))\n",
        "        split1 = rnd < percent\n",
        "        split2 = rnd >= percent\n",
        "\n",
        "        split1data = data[split1, :]\n",
        "        split1label = label[split1]\n",
        "        split2data = data[split2, :]\n",
        "        split2label = label[split2]\n",
        "        return split1data, split1label, split2data, split2label\n",
        "\n",
        "# Define the NN function if it's not already defined in the current session\n",
        "if 'NN' not in globals():\n",
        "    def NN1(traindata, trainlabel, query):\n",
        "        \"\"\"\n",
        "        This function takes in the training data, training labels and a query point\n",
        "        and returns the predicted label for the query point using the nearest neighbour algorithm\n",
        "        \"\"\"\n",
        "        diff = (\n",
        "            traindata - query\n",
        "        )  # find the difference between features. Numpy automatically takes care of the size here\n",
        "        sq = diff * diff  # square the differences\n",
        "        dist = sq.sum(1)  # add up the squares\n",
        "        label = trainlabel[np.argmin(dist)]\n",
        "        return label\n",
        "\n",
        "    def NN(traindata, trainlabel, testdata):\n",
        "        \"\"\"\n",
        "        This function takes in the training data, training labels and test data\n",
        "        and returns the predicted labels for the test data using the nearest neighbour algorithm\n",
        "        \"\"\"\n",
        "        predlabel = np.array([NN1(traindata, trainlabel, i) for i in testdata])\n",
        "        return predlabel\n",
        "\n",
        "# Re-split the data to define traindata, trainlabel, valdata, and vallabel\n",
        "testdata, testlabel, alltraindata, alltrainlabel = split(\n",
        "    dataset.data, dataset.target, 20 / 100\n",
        ")\n",
        "traindata, trainlabel, valdata, vallabel = split(\n",
        "    alltraindata, alltrainlabel, 75 / 100)\n",
        "\n",
        "\n",
        "def plot_confusion_matrix(true_labels, pred_labels, title=\"Confusion Matrix\"):\n",
        "    \"\"\"\n",
        "    Plot confusion matrix heatmap\n",
        "    \"\"\"\n",
        "    cm = confusion_matrix(true_labels, pred_labels)\n",
        "\n",
        "    plt.figure(figsize=(8, 6))\n",
        "    sns.heatmap(cm, annot=True, fmt='d', cmap='Blues',\n",
        "                cbar_kws={'label': 'Count'})\n",
        "    plt.title(title)\n",
        "    plt.ylabel('True Label')\n",
        "    plt.xlabel('Predicted Label')\n",
        "    plt.tight_layout()\n",
        "    plt.show()\n",
        "\n",
        "    print(f\"Confusion Matrix Shape: {cm.shape}\")\n",
        "    print(f\"Total Predictions: {cm.sum()}\")\n",
        "\n",
        "# Visualize confusion matrix for validation predictions\n",
        "print(\"=== Confusion Matrix for Validation Set ===\")\n",
        "valpred = NN(traindata, trainlabel, valdata)\n",
        "plot_confusion_matrix(vallabel, valpred,\n",
        "                     title=\"K-NN Validation Confusion Matrix\")"
      ],
      "metadata": {
        "colab": {
          "base_uri": "https://localhost:8080/",
          "height": 661
        },
        "id": "e87O4lYSk-6M",
        "outputId": "4ee1768b-3148-4c13-cba1-abf221dca384"
      },
      "execution_count": 16,
      "outputs": [
        {
          "output_type": "stream",
          "name": "stdout",
          "text": [
            "=== Confusion Matrix for Validation Set ===\n"
          ]
        },
        {
          "output_type": "display_data",
          "data": {
            "text/plain": [
              "<Figure size 800x600 with 2 Axes>"
            ],
            "image/png": "[encoded data removed]"
          },
          "metadata": {}
        },
        {
          "output_type": "stream",
          "name": "stdout",
          "text": [
            "Confusion Matrix Shape: (6, 6)\n",
            "Total Predictions: 4208\n"
          ]
        }
      ]
    },
    {
      "cell_type": "markdown",
      "metadata": {
        "id": "60hiu4clFN1i"
      },
      "source": [
        "What is the accuracy of our classifiers on the train dataset?"
      ]
    },
    {
      "cell_type": "code",
      "execution_count": 17,
      "metadata": {
        "colab": {
          "base_uri": "https://localhost:8080/"
        },
        "id": "DBlZDTHUFTZx",
        "outputId": "2bac75f0-c501-4d0a-f9d7-8d7c530615dc"
      },
      "outputs": [
        {
          "output_type": "stream",
          "name": "stdout",
          "text": [
            "Training accuracy using nearest neighbour algorithm: 100.0 %\n",
            "Training accuracy using random classifier:  16.149471974004875 %\n"
          ]
        }
      ],
      "source": [
        "trainpred = NN(traindata, trainlabel, traindata)\n",
        "trainAccuracy = Accuracy(trainlabel, trainpred)\n",
        "print(\"Training accuracy using nearest neighbour algorithm:\", trainAccuracy*100, \"%\")\n",
        "\n",
        "trainpred = RandomClassifier(traindata, trainlabel, traindata)\n",
        "trainAccuracy = Accuracy(trainlabel, trainpred)\n",
        "print(\"Training accuracy using random classifier: \", trainAccuracy*100, \"%\")"
      ]
    },
    {
      "cell_type": "markdown",
      "metadata": {
        "id": "7h08-9gJDtSy"
      },
      "source": [
        "For nearest neighbour, the train accuracy is always 1. The accuracy of the random classifier is close to 1/(number of classes) which is 0.1666 in our case. This is because the random classifier randomly assigns a label to each sample and the probability of assigning the correct label is 1/(number of classes). Let us predict the labels for our validation set and get the accuracy. This accuracy is a good estimate of the accuracy of our model on unseen data."
      ]
    },
    {
      "cell_type": "code",
      "execution_count": null,
      "metadata": {
        "colab": {
          "base_uri": "https://localhost:8080/"
        },
        "id": "4h7bXoW_2H3v",
        "outputId": "f20817e8-cafb-4167-83dc-565be9c97a32"
      },
      "outputs": [
        {
          "output_type": "stream",
          "name": "stdout",
          "text": [
            "Validation accuracy using nearest neighbour algorithm: 34.10852713178294 %\n",
            "Validation accuracy using random classifier: 16.884689922480618 %\n"
          ]
        }
      ],
      "source": [
        "valpred = NN(traindata, trainlabel, valdata)\n",
        "valAccuracy = Accuracy(vallabel, valpred)\n",
        "print(\"Validation accuracy using nearest neighbour algorithm:\", valAccuracy*100, \"%\")\n",
        "\n",
        "\n",
        "valpred = RandomClassifier(traindata, trainlabel, valdata)\n",
        "valAccuracy = Accuracy(vallabel, valpred)\n",
        "print(\"Validation accuracy using random classifier:\", valAccuracy*100, \"%\")"
      ]
    },
    {
      "cell_type": "markdown",
      "metadata": {
        "id": "py9bLguFEjfg"
      },
      "source": [
        "Validation accuracy of nearest neighbour is considerably less than its train accuracy while the validation accuracy of random classifier is the same. However, the validation accuracy of nearest neighbour is twice that of the random classifier. Now let us try another random split and check the validation accuracy. We will see that the validation accuracy changes with the split. This is because the validation set is small and the accuracy is highly dependent on the samples in the validation set. We can get a better estimate of the accuracy by using cross-validation."
      ]
    },
    {
      "cell_type": "code",
      "execution_count": 18,
      "metadata": {
        "colab": {
          "base_uri": "https://localhost:8080/"
        },
        "id": "ujm3cyYzEntE",
        "outputId": "ec4932b6-376e-4408-e03c-ab6110370c35"
      },
      "outputs": [
        {
          "output_type": "stream",
          "name": "stdout",
          "text": [
            "Validation accuracy using nearest neighbour algorithm: 34.14394497666421 %\n"
          ]
        }
      ],
      "source": [
        "traindata, trainlabel, valdata, vallabel = split(\n",
        "    alltraindata, alltrainlabel, 75 / 100)\n",
        "valpred = NN(traindata, trainlabel, valdata)\n",
        "valAccuracy = Accuracy(vallabel, valpred)\n",
        "print(\"Validation accuracy using nearest neighbour algorithm:\", valAccuracy*100, \"%\")"
      ]
    },
    {
      "cell_type": "markdown",
      "metadata": {
        "id": "oSOx7U83EKie"
      },
      "source": [
        "You can run the above cell multiple times to try with different random splits.\n",
        "We notice that the accuracy is different for each run, but close together.\n",
        "\n",
        "Now let us compare it with the accuracy we get on the test dataset."
      ]
    },
    {
      "cell_type": "code",
      "execution_count": null,
      "metadata": {
        "colab": {
          "base_uri": "https://localhost:8080/"
        },
        "id": "PNEZ5ToYBEDW",
        "outputId": "0dab9071-2520-4b25-e718-33e6ffe09e1a"
      },
      "outputs": [
        {
          "output_type": "stream",
          "name": "stdout",
          "text": [
            "Test accuracy: 34.91795366795367 %\n"
          ]
        }
      ],
      "source": [
        "testpred = NN(alltraindata, alltrainlabel, testdata)\n",
        "testAccuracy = Accuracy(testlabel, testpred)\n",
        "\n",
        "print(\"Test accuracy:\", testAccuracy*100, \"%\")"
      ]
    },
    {
      "cell_type": "markdown",
      "metadata": {
        "id": "w3dGD531K3gH"
      },
      "source": [
        "### Try it out for yourself and answer:\n",
        "1. How is the accuracy of the validation set affected if we increase the percentage of validation set? What happens when we reduce it?\n",
        "2. How does the size of the train and validation set affect how well we can predict the accuracy on the test set using the validation set?\n",
        "3. What do you think is a good percentage to reserve for the validation set so that thest two factors are balanced?\n",
        "\n",
        "Answer for both nearest neighbour and random classifier. You can note down the values for your experiments and plot a graph using  <a href=https://matplotlib.org/stable/gallery/lines_bars_and_markers/step_demo.html#sphx-glr-gallery-lines-bars-and-markers-step-demo-py>plt.plot<href>. Check also for extreme values for splits, like 99.9% or 0.1%"
      ]
    },
    {
      "cell_type": "markdown",
      "metadata": {
        "id": "M9zvdYY6evgI"
      },
      "source": [
        "> Exercise: Try to implement a 3 nearest neighbour classifier and compare the accuracy of the 1 nearest neighbour classifier and the 3 nearest neighbour classifier on the test dataset. You can use the KNeighborsClassifier class from the scikit-learn library to implement the K-Nearest Neighbors model. You can set the number of neighbors using the n_neighbors parameter. You can also use the accuracy_score function from the scikit-learn library to calculate the accuracy of the model."
      ]
    },
    {
      "cell_type": "markdown",
      "metadata": {
        "id": "PnYvkAZLQY7h"
      },
      "source": [
        "## Multiple Splits\n",
        "\n",
        "One way to get more accurate estimates for the test accuracy is by using <b>cross-validation</b>. Here, we will try a simple version, where we do multiple train/val splits and take the average of validation accuracies as the test accuracy estimation. Here is a function for doing this. Note that this function will take a long time to execute. You can reduce the number of splits to make it faster."
      ]
    },
    {
      "cell_type": "code",
      "execution_count": 19,
      "metadata": {
        "id": "E4nGCUQXBTzo"
      },
      "outputs": [],
      "source": [
        "def AverageAccuracy(alldata, alllabel, splitpercent, iterations, classifier=NN):\n",
        "    \"\"\"\n",
        "    This function takes in the data, labels, split percentage, number of iterations and classifier function\n",
        "    and returns the average accuracy of the classifier\n",
        "\n",
        "    alldata: numpy array of shape (n,d) where n is the number of samples and d is the number of features\n",
        "    alllabel: numpy array of shape (n,) where n is the number of samples\n",
        "    splitpercent: float which is the percentage of data to be used for training\n",
        "    iterations: int which is the number of iterations to run the classifier\n",
        "    classifier: function which is the classifier function to be used\n",
        "\n",
        "    returns: the average accuracy of the classifier\n",
        "    \"\"\"\n",
        "    accuracy = 0\n",
        "    for ii in range(iterations):\n",
        "        traindata, trainlabel, valdata, vallabel = split(\n",
        "            alldata, alllabel, splitpercent\n",
        "        )\n",
        "        valpred = classifier(traindata, trainlabel, valdata)\n",
        "        accuracy += Accuracy(vallabel, valpred)\n",
        "    return accuracy / iterations  # average of all accuracies"
      ]
    },
    {
      "cell_type": "code",
      "execution_count": 20,
      "metadata": {
        "colab": {
          "base_uri": "https://localhost:8080/"
        },
        "id": "H3qtNar7Bbik",
        "outputId": "f6bcd788-1eed-4a4b-a711-1af5f4578c69"
      },
      "outputs": [
        {
          "output_type": "stream",
          "name": "stdout",
          "text": [
            "Average validation accuracy: 34.06803639406302 %\n",
            "Test accuracy: 34.76467734109656 %\n"
          ]
        }
      ],
      "source": [
        "avg_acc = AverageAccuracy(alltraindata, alltrainlabel, 75 / 100, 10, classifier=NN)\n",
        "print(\"Average validation accuracy:\", avg_acc*100, \"%\")\n",
        "testpred = NN(alltraindata, alltrainlabel, testdata)\n",
        "\n",
        "print(\"Test accuracy:\", Accuracy(testlabel, testpred)*100, \"%\")"
      ]
    },
    {
      "cell_type": "markdown",
      "metadata": {
        "id": "33GIn4x5VH-d"
      },
      "source": [
        "This is a very simple way of doing cross-validation. There are many well-known algorithms for cross-validation, like k-fold cross-validation, leave-one-out etc. This will be covered in detail in a later module. For more information about cross-validation, check <a href=https://en.wikipedia.org/wiki/Cross-validation_(statistics)>Cross-validatioin (Wikipedia)</a>\n",
        "\n",
        "### Questions\n",
        "1. Does averaging the validation accuracy across multiple splits give more consistent results?\n",
        "2. Does it give more accurate estimate of test accuracy?\n",
        "3. What is the effect of the number of iterations on the estimate? Do we get a better estimate with higher iterations?\n",
        "4. Consider the results you got for the previous questions. Can we deal with a very small train dataset or validation dataset by increasing the iterations?\n"
      ]
    },
    {
      "cell_type": "markdown",
      "source": [
        "Yes. Averaging validation accuracy over multiple splits (like in cross-validation) reduces the effect of random variations from one split. This makes the results more consistent and reliable."
      ],
      "metadata": {
        "id": "FMpNEnduS7qm"
      }
    },
    {
      "cell_type": "markdown",
      "source": [
        "Yes. Averaging across splits gives a better estimate of the model’s true performance on unseen data (test set) because it evaluates the model on different portions of data each time."
      ],
      "metadata": {
        "id": "rPBytBFeToXT"
      }
    },
    {
      "cell_type": "markdown",
      "source": [
        "As the number of iterations (splits) increases, the estimate becomes more stable and accurate — but only up to a point. After a certain number, the improvement becomes very small while computation time increases."
      ],
      "metadata": {
        "id": "VFk7gvxiTqmG"
      }
    },
    {
      "cell_type": "markdown",
      "source": [
        "To some extent, yes. Increasing iterations helps use different parts of the data for training and validation, giving a fairer evaluation.\n",
        "However, it cannot fully replace having more data — more iterations can reduce bias but won’t create new information."
      ],
      "metadata": {
        "id": "cMGEmWYCTs5X"
      }
    },
    {
      "cell_type": "markdown",
      "source": [],
      "metadata": {
        "id": "GkaYUcUnTnc4"
      }
    },
    {
      "cell_type": "markdown",
      "metadata": {
        "id": "z-SBxy1qevgJ"
      },
      "source": [
        "> Exercise: How does the accuracy of the 3 nearest neighbour classifier change with the number of splits? How is it affected by the split size? Compare the results with the 1 nearest neighbour classifier."
      ]
    },
    {
      "cell_type": "markdown",
      "source": [
        "3-NN Classifier vs Number of Splits:\n",
        "\n",
        "More splits → more stable and consistent accuracy.\n",
        "\n",
        "Effect of Split Size:\n",
        "\n",
        "Larger training set → better accuracy.\n",
        "\n",
        "Larger validation set → more reliable estimate but slightly lower training accuracy.\n",
        "\n",
        "Comparison with 1-NN:\n",
        "\n",
        "1-NN changes more with noise and splits.\n",
        "\n",
        "3-NN is smoother, more stable, and usually gives better accuracy."
      ],
      "metadata": {
        "id": "jQc2zCm8WEgm"
      }
    },
    {
      "cell_type": "markdown",
      "source": [],
      "metadata": {
        "id": "cOQV5Nk2TeqD"
      }
    }
  ],
  "metadata": {
    "colab": {
      "provenance": [],
      "include_colab_link": true
    },
    "kernelspec": {
      "display_name": "Python 3",
      "name": "python3"
    },
    "language_info": {
      "codemirror_mode": {
        "name": "ipython",
        "version": 3
      },
      "file_extension": ".py",
      "mimetype": "text/x-python",
      "name": "python",
      "nbconvert_exporter": "python",
      "pygments_lexer": "ipython3",
      "version": "3.10.10"
    }
  },
  "nbformat": 4,
  "nbformat_minor": 0
}